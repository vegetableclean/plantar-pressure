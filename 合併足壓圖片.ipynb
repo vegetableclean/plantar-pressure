{
 "cells": [
  {
   "cell_type": "code",
   "execution_count": 1,
   "metadata": {},
   "outputs": [],
   "source": [
    "from PIL import Image \n",
    "import matplotlib.pyplot as plt\n",
    "import numpy as np\n",
    "\n",
    "\n",
    "# 1. 將兩張icon圖示顯示在同一張圖上面並儲存；\n",
    "def combine_photo(arr):\n",
    "    #arr是一個列表，裡面是兩個lis圖片的路徑，例如[\"p1.png\", 'p2.png']\n",
    "    toImage = Image.new('RGB', (38, 35))\n",
    "    img1 = Image.open(arr[0])\n",
    "    img12 = Image.open(arr[1])\n",
    "    toImage.paste(img1, (3, 3))\n",
    "    toImage.paste(img12, (25, 3, 25+ img1.size[0] , 3+ img1.size[1]))\n",
    "    #函式描述：toImage:背景圖片,paste()函式四個變數分別為：起始橫軸座標，起始縱軸座標，橫軸結束座標，縱軸結束座標；\n",
    "    toImage.save(r\"C:\\Users\\User\\Desktop\\chieh\\lab\\pytorch\\plantar_pressure\\merge\\output\\merge.jpg\",\"JPEG\")\n",
    "    plt.imshow(toImage)\n",
    "    plt.title('plantar')\n",
    "    #plt.show()"
   ]
  },
  {
   "cell_type": "code",
   "execution_count": 2,
   "metadata": {},
   "outputs": [],
   "source": [
    "a=[]\n",
    "a.append(r'C:\\Users\\User\\Desktop\\chieh\\lab\\pytorch\\plantar_pressure\\merge\\L2.jpg')"
   ]
  },
  {
   "cell_type": "code",
   "execution_count": 3,
   "metadata": {},
   "outputs": [],
   "source": [
    "a.append(r'C:\\Users\\User\\Desktop\\chieh\\lab\\pytorch\\plantar_pressure\\merge\\R2.jpg')"
   ]
  },
  {
   "cell_type": "code",
   "execution_count": 4,
   "metadata": {},
   "outputs": [
    {
     "data": {
      "image/png": "[encoded data removed]",
      "text/plain": [
       "<Figure size 432x288 with 1 Axes>"
      ]
     },
     "metadata": {
      "needs_background": "light"
     },
     "output_type": "display_data"
    }
   ],
   "source": [
    "combine_photo(a)"
   ]
  },
  {
   "cell_type": "code",
   "execution_count": null,
   "metadata": {},
   "outputs": [],
   "source": []
  }
 ],
 "metadata": {
  "kernelspec": {
   "display_name": "Python 3",
   "language": "python",
   "name": "python3"
  },
  "language_info": {
   "codemirror_mode": {
    "name": "ipython",
    "version": 3
   },
   "file_extension": ".py",
   "mimetype": "text/x-python",
   "name": "python",
   "nbconvert_exporter": "python",
   "pygments_lexer": "ipython3",
   "version": "3.8.5"
  }
 },
 "nbformat": 4,
 "nbformat_minor": 4
}
