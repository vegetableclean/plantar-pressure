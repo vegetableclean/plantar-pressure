{
 "cells": [
  {
   "cell_type": "code",
   "execution_count": 1,
   "metadata": {},
   "outputs": [],
   "source": [
    "import numpy as np  #讀取檔案\n",
    "from scipy.ndimage import rotate\n",
    "from PIL import Image \n",
    "import matplotlib.pyplot as plt"
   ]
  },
  {
   "cell_type": "code",
   "execution_count": 2,
   "metadata": {},
   "outputs": [],
   "source": [
    "def clean(ele_array):  #清除不需要的資料\n",
    "    A = np.delete(ele_array, 0, 0)  # 删除A的第一行\n",
    "    B = np.delete(A, 0, 1) #刪除第一列\n",
    "    return B"
   ]
  },
  {
   "cell_type": "code",
   "execution_count": 3,
   "metadata": {},
   "outputs": [],
   "source": [
    "def pressure_convert(new_array):  #壓力公式轉換 kg/cm^2 transform to kPa\n",
    "    new_array = np.asarray(new_array, dtype='float64')\n",
    "    y=98.134256*new_array #kg/cm^2 transform to kPa\n",
    "    return y "
   ]
  },
  {
   "cell_type": "code",
   "execution_count": 4,
   "metadata": {},
   "outputs": [],
   "source": [
    "def make_data(converted):   #產生更多資料\n",
    "    r1=rotate(converted,angle=5)\n",
    "    r2=rotate(converted,angle=-5)\n",
    "    padimg1= np.pad(converted, ((1, 1), (0, 0)), 'constant', constant_values=(0, 0))\n",
    "    padimg2= np.pad(converted, ((0, 0), (1, 1)), 'constant', constant_values=(0, 0))\n",
    "    return r1,r2,padimg1,padimg2"
   ]
  },
  {
   "cell_type": "code",
   "execution_count": 5,
   "metadata": {},
   "outputs": [],
   "source": [
    "def file_process(i,filename,newfile_np,newfile_im):  \n",
    "    elements = []\n",
    "    with open(filename) as file:\n",
    "       for line in file:\n",
    "          #print('line:',line)\n",
    "          line = line.strip().split()\n",
    "          #print('linestrip:',line)\n",
    "          if line:\n",
    "              elements.append(line)\n",
    "              #print('elements',elements)\n",
    "    ele_array = np.array(elements) #資料讀取並從list轉換成矩陣形式\n",
    "    new_array = clean(ele_array)\n",
    "    converted=pressure_convert(new_array)\n",
    "    print ('%s\\nshape is %s' % (type(ele_array), ele_array.shape))\n",
    "    print ('%s\\nshape is %s' % (type(converted), converted.shape))\n",
    "    print(converted)\n",
    "    #save image and array\n",
    "    a,b,c,d=make_data(converted)\n",
    "    e=plot(converted)\n",
    "    f=plot(a)\n",
    "    g=plot(b)\n",
    "    h=plot(c)\n",
    "    j=plot(d)\n",
    "    e.save(\"%s\\\\original(%s).jpg\"%(newfile_im,i),\"JPEG\")\n",
    "    #f.save(\"%s\\\\r1(%s).jpg\"%(newfile_im,i),\"JPEG\")\n",
    "    #g.save(\"%s\\\\r2(%s).jpg\"%(newfile_im,i),\"JPEG\")\n",
    "    #h.save(\"%s\\\\padimg1(%s).jpg\"%(newfile_im,i),\"JPEG\")\n",
    "    #j.save(\"%s\\\\padimg2(%s).jpg\"%(newfile_im,i),\"JPEG\")\n",
    "    np.save(r'%s\\\\original(%s).npy'%(newfile_np,i),converted)  #儲存矩陣\n",
    "    #np.save(r'%s\\\\r1(%s).npy'%(newfile_np,i),a) \n",
    "    #np.save(r'%s\\\\r2(%s).npy'%(newfile_np,i),b)\n",
    "    #np.save(r'%s\\\\padimg1(%s).npy'%(newfile_np,i),c) \n",
    "    #np.save(r'%s\\\\padimg2(%s).npy'%(newfile_np,i),d) \n",
    "    file.close()"
   ]
  },
  {
   "cell_type": "code",
   "execution_count": 6,
   "metadata": {},
   "outputs": [],
   "source": [
    "def plot(array):\n",
    "    %matplotlib inline\n",
    "    im=Image.fromarray(array)\n",
    "    if im != 'RGB': #轉換成RGB\n",
    "        im = im.convert('RGB')\n",
    "    #im.save(\"%s\\original(%s).jpg\"%(filename,i),\"JPEG\")\n",
    "    plt.imshow(im)\n",
    "    plt.show()    \n",
    "    return im"
   ]
  },
  {
   "cell_type": "code",
   "execution_count": 7,
   "metadata": {},
   "outputs": [
    {
     "name": "stdout",
     "output_type": "stream",
     "text": [
      "now file is at:  C:\\Users\\User\\Desktop\\chieh\\lab\\pytorch\\plantar_pressure\\datacollect2\\1\\L\n",
      "['1.txt', '2.txt', '3.txt', '4.txt', '5.txt']\n"
     ]
    },
    {
     "ename": "FileExistsError",
     "evalue": "[WinError 183] 當檔案已存在時，無法建立該檔案。: 'C:\\\\Users\\\\User\\\\Desktop\\\\chieh\\\\lab\\\\pytorch\\\\plantar_pressure\\\\datacollect2\\\\1\\\\L\\\\data'",
     "output_type": "error",
     "traceback": [
      "\u001b[1;31m---------------------------------------------------------------------------\u001b[0m",
      "\u001b[1;31mFileExistsError\u001b[0m                           Traceback (most recent call last)",
      "\u001b[1;32m<ipython-input-7-46722c53ee0d>\u001b[0m in \u001b[0;36m<module>\u001b[1;34m\u001b[0m\n\u001b[0;32m     17\u001b[0m         \u001b[1;31m#except OSError as e:\u001b[0m\u001b[1;33m\u001b[0m\u001b[1;33m\u001b[0m\u001b[1;33m\u001b[0m\u001b[0m\n\u001b[0;32m     18\u001b[0m             \u001b[1;31m#print(f\"Error:{ e.strerror}\")\u001b[0m\u001b[1;33m\u001b[0m\u001b[1;33m\u001b[0m\u001b[1;33m\u001b[0m\u001b[0m\n\u001b[1;32m---> 19\u001b[1;33m         \u001b[0mos\u001b[0m\u001b[1;33m.\u001b[0m\u001b[0mmakedirs\u001b[0m\u001b[1;33m(\u001b[0m\u001b[1;34m'%s\\data'\u001b[0m\u001b[1;33m%\u001b[0m\u001b[0mroot\u001b[0m\u001b[1;33m)\u001b[0m\u001b[1;33m\u001b[0m\u001b[1;33m\u001b[0m\u001b[0m\n\u001b[0m\u001b[0;32m     20\u001b[0m         \u001b[0mos\u001b[0m\u001b[1;33m.\u001b[0m\u001b[0mmakedirs\u001b[0m\u001b[1;33m(\u001b[0m\u001b[1;34m'%s\\image'\u001b[0m\u001b[1;33m%\u001b[0m\u001b[0mroot\u001b[0m\u001b[1;33m)\u001b[0m\u001b[1;33m\u001b[0m\u001b[1;33m\u001b[0m\u001b[0m\n\u001b[0;32m     21\u001b[0m         \u001b[0mprint\u001b[0m\u001b[1;33m(\u001b[0m\u001b[0mfiles\u001b[0m\u001b[1;33m)\u001b[0m\u001b[1;33m\u001b[0m\u001b[1;33m\u001b[0m\u001b[0m\n",
      "\u001b[1;32m~\\anaconda3\\envs\\pytorch\\lib\\os.py\u001b[0m in \u001b[0;36mmakedirs\u001b[1;34m(name, mode, exist_ok)\u001b[0m\n\u001b[0;32m    221\u001b[0m             \u001b[1;32mreturn\u001b[0m\u001b[1;33m\u001b[0m\u001b[1;33m\u001b[0m\u001b[0m\n\u001b[0;32m    222\u001b[0m     \u001b[1;32mtry\u001b[0m\u001b[1;33m:\u001b[0m\u001b[1;33m\u001b[0m\u001b[1;33m\u001b[0m\u001b[0m\n\u001b[1;32m--> 223\u001b[1;33m         \u001b[0mmkdir\u001b[0m\u001b[1;33m(\u001b[0m\u001b[0mname\u001b[0m\u001b[1;33m,\u001b[0m \u001b[0mmode\u001b[0m\u001b[1;33m)\u001b[0m\u001b[1;33m\u001b[0m\u001b[1;33m\u001b[0m\u001b[0m\n\u001b[0m\u001b[0;32m    224\u001b[0m     \u001b[1;32mexcept\u001b[0m \u001b[0mOSError\u001b[0m\u001b[1;33m:\u001b[0m\u001b[1;33m\u001b[0m\u001b[1;33m\u001b[0m\u001b[0m\n\u001b[0;32m    225\u001b[0m         \u001b[1;31m# Cannot rely on checking for EEXIST, since the operating system\u001b[0m\u001b[1;33m\u001b[0m\u001b[1;33m\u001b[0m\u001b[1;33m\u001b[0m\u001b[0m\n",
      "\u001b[1;31mFileExistsError\u001b[0m: [WinError 183] 當檔案已存在時，無法建立該檔案。: 'C:\\\\Users\\\\User\\\\Desktop\\\\chieh\\\\lab\\\\pytorch\\\\plantar_pressure\\\\datacollect2\\\\1\\\\L\\\\data'"
     ]
    }
   ],
   "source": [
    "#主程式--讀取檔案資料夾--處理--儲存資料\n",
    "import os\n",
    "import shutil\n",
    "path=r'C:\\Users\\User\\Desktop\\chieh\\lab\\pytorch\\plantar_pressure\\datacollect2'\n",
    "allList=os.walk(path)\n",
    "for root,dirs,files in allList:\n",
    "    #print('root:',root)\n",
    "    #print('dirs:',dirs)\n",
    "    #print('files:',files)\n",
    "    if files:\n",
    "        print('now file is at:  %s'%root)\n",
    "        print(files)\n",
    "        #try:\n",
    "\n",
    "            #shutil.rmtree(r'%s\\image'%root)  #刪除資料\n",
    "            #os.remove(r'%s\\data'%root)\n",
    "        #except OSError as e:\n",
    "            #print(f\"Error:{ e.strerror}\")\n",
    "        os.makedirs('%s\\data'%root)\n",
    "        os.makedirs('%s\\image'%root)\n",
    "        print(files)\n",
    "        for i in files:\n",
    "            print(i)\n",
    "            print(root)\n",
    "            print('%s'%root+'\\%s'%i)\n",
    "            filename='%s'%root+'\\%s'%i\n",
    "            with open (filename,'r') as f:\n",
    "                file_process(i,filename='%s'%root+'\\%s'%i,newfile_np='%s'%root+'\\data',newfile_im='%s'%root+'\\image')\n",
    "                \n",
    "            f.close()"
   ]
  },
  {
   "cell_type": "code",
   "execution_count": null,
   "metadata": {},
   "outputs": [],
   "source": []
  },
  {
   "cell_type": "code",
   "execution_count": null,
   "metadata": {},
   "outputs": [],
   "source": []
  }
 ],
 "metadata": {
  "kernelspec": {
   "display_name": "Python 3",
   "language": "python",
   "name": "python3"
  },
  "language_info": {
   "codemirror_mode": {
    "name": "ipython",
    "version": 3
   },
   "file_extension": ".py",
   "mimetype": "text/x-python",
   "name": "python",
   "nbconvert_exporter": "python",
   "pygments_lexer": "ipython3",
   "version": "3.8.5"
  }
 },
 "nbformat": 4,
 "nbformat_minor": 4
}
